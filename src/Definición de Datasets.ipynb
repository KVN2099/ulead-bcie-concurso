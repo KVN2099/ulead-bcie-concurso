{
 "cells": [
  {
   "cell_type": "code",
   "execution_count": 0,
   "metadata": {
    "application/vnd.databricks.v1+cell": {
     "cellMetadata": {
      "byteLimit": 2048000,
      "rowLimit": 10000
     },
     "inputWidgets": {},
     "nuid": "124df972-dd6a-4015-b61d-3a3cc9fe821d",
     "showTitle": false,
     "tableResultSettingsMap": {},
     "title": ""
    }
   },
   "outputs": [],
   "source": [
    "catalog = dbutils.widgets.get(\"catalog\")\n",
    "schema = dbutils.widgets.get(\"schema\")\n",
    "table = dbutils.widgets.get(\"table\")\n",
    "\n",
    "path = f\"{catalog}.{schema}.{table}\"\n",
    "print(path)"
   ]
  },
  {
   "cell_type": "code",
   "execution_count": 0,
   "metadata": {
    "application/vnd.databricks.v1+cell": {
     "cellMetadata": {
      "byteLimit": 2048000,
      "rowLimit": 10000
     },
     "inputWidgets": {},
     "nuid": "d093215f-f042-47d9-b109-afa36edc232b",
     "showTitle": false,
     "tableResultSettingsMap": {},
     "title": ""
    }
   },
   "outputs": [],
   "source": [
    "datasets = [\n",
    "  {\n",
    "    \"area\": \"Aprobaciones y Desembolsos\",\n",
    "    \"conjunto_de_datos\": \"Préstamos\",\n",
    "    \"url\": \"https://datosabiertos.bcie.org/dataset/45876cb4-d8b8-4635-b999-0df1c19b831a/resource/ce88a753-57f5-4266-a57e-394600c8435d/download/aprobaciones-prestamos.csv\"\n",
    "  },\n",
    "  {\n",
    "    \"area\": \"Aprobaciones y Desembolsos\",\n",
    "    \"conjunto_de_datos\": \"Préstamos\",\n",
    "    \"url\": \"https://datosabiertos.bcie.org/dataset/45876cb4-d8b8-4635-b999-0df1c19b831a/resource/f76c280b-d56c-48d0-b581-9dc4cf18ec48/download/aprobaciones-prestamos-sector-publico.csv\"\n",
    "  },\n",
    "  {\n",
    "    \"area\": \"Aprobaciones y Desembolsos\",\n",
    "    \"conjunto_de_datos\": \"Préstamos\",\n",
    "    \"url\": \"https://datosabiertos.bcie.org/dataset/45876cb4-d8b8-4635-b999-0df1c19b831a/resource/e3a3c0f6-5bb6-496e-9b7f-013666f86259/download/desembolsos-prestamos.csv\"\n",
    "  },\n",
    "  {\n",
    "    \"area\": \"Aprobaciones y Desembolsos\",\n",
    "    \"conjunto_de_datos\": \"Préstamos\",\n",
    "    \"url\": \"https://datosabiertos.bcie.org/dataset/45876cb4-d8b8-4635-b999-0df1c19b831a/resource/8794659a-285b-4f0d-b5a4-a704bdf823fb/download/desembolsos-prestamos-sector-publico.csv\"\n",
    "  },\n",
    "  {\n",
    "    \"area\": \"Aprobaciones y Desembolsos\",\n",
    "    \"conjunto_de_datos\": \"Productos de Cooperación\",\n",
    "    \"url\": \"https://datosabiertos.bcie.org/dataset/51eea43b-4510-4e92-b30e-991cb8a72b83/resource/6417e10e-e64f-43b3-aa4f-0e3185846ae9/download/productos-cooperacion-aprobaciones-detalle.csv\"\n",
    "  },\n",
    "  {\n",
    "    \"area\": \"Aprobaciones y Desembolsos\",\n",
    "    \"conjunto_de_datos\": \"Productos de Cooperación\",\n",
    "    \"url\": \"https://datosabiertos.bcie.org/dataset/51eea43b-4510-4e92-b30e-991cb8a72b83/resource/5a1e696e-2d60-4e37-a141-1e14e4e35897/download/productos-cooperacion-aprobaciones-resumen.csv\"\n",
    "  },\n",
    "  {\n",
    "    \"area\": \"Aprobaciones y Desembolsos\",\n",
    "    \"conjunto_de_datos\": \"Productos de Cooperación\",\n",
    "    \"url\": \"https://datosabiertos.bcie.org/dataset/51eea43b-4510-4e92-b30e-991cb8a72b83/resource/0684430c-faf2-49e0-a27a-5b6d28911704/download/productos-cooperacion-desembolsos-resumen.csv\"\n",
    "  },\n",
    "  {\n",
    "    \"area\": \"Aprobaciones y Desembolsos\",\n",
    "    \"conjunto_de_datos\": \"Productos de Cooperación\",\n",
    "    \"url\": \"https://datosabiertos.bcie.org/dataset/51eea43b-4510-4e92-b30e-991cb8a72b83/resource/b1a98885-1fcf-4515-ab78-7071401a7f07/download/productos-cooperacion-desembolsos-detalle.csv\"\n",
    "  },\n",
    "  {\n",
    "    \"area\": \"Evaluación y Medición de Impacto\",\n",
    "    \"conjunto_de_datos\": \"Impacto del Desarrollo\",\n",
    "    \"url\": \"https://datosabiertos.bcie.org/dataset/c5bba8c4-068e-476f-b4d0-e7f78a0afe8d/resource/75bed7b6-0842-4f86-9235-6c6fd851b0f9/download/operaciones_indicadores_producto_efecto.csv\"\n",
    "  },\n",
    "  {\n",
    "    \"area\": \"Adquisiciones en Operaciones\",\n",
    "    \"conjunto_de_datos\": \"Procesos de Adquisiciones de Proyectos\",\n",
    "    \"url\": \"https://datosabiertos.bcie.org/dataset/34504031-cf90-49f8-b688-adf4576574f0/resource/cff64aed-28fc-417f-b5fd-657d23912ced/download/procesos_adquisiciones_psd.csv\"\n",
    "  },\n",
    "  {\n",
    "    \"area\": \"Adquisiciones en Operaciones\",\n",
    "    \"conjunto_de_datos\": \"Procesos de Adquisiciones de Proyectos\",\n",
    "    \"url\": \"https://datosabiertos.bcie.org/dataset/34504031-cf90-49f8-b688-adf4576574f0/resource/0e7c36e4-0ea0-4d0c-b0ec-a0e2fbf0b870/download/planes_adquisiciones_psd.csv\"\n",
    "  },\n",
    "  {\n",
    "    \"area\": \"Adquisiciones en Operaciones\",\n",
    "    \"conjunto_de_datos\": \"Procesos de Adquisiciones de Proyectos\",\n",
    "    \"url\": \"https://datosabiertos.bcie.org/dataset/34504031-cf90-49f8-b688-adf4576574f0/resource/6591a572-ce2e-41e0-83d4-5a03e8791bd6/download/adjudicatarios_psd.csv\"\n",
    "  },\n",
    "  {\n",
    "    \"area\": \"Adquisiciones Institucionales\",\n",
    "    \"conjunto_de_datos\": \"Procesos de Adquisiciones Institucionales\",\n",
    "    \"url\": \"https://datosabiertos.bcie.org/dataset/57e34598-04a9-4310-b2a3-ad52ca0c4193/resource/24f37753-fc5f-489d-ab44-ea72a9d86bf2/download/procesos_competitivos.csv\"\n",
    "  },\n",
    "  {\n",
    "    \"area\": \"Cumplimiento de la Política de Acceso a la Información\",\n",
    "    \"conjunto_de_datos\": \"Indicadores de Transparencia\",\n",
    "    \"url\": \"https://datosabiertos.bcie.org/dataset/3ef55fb4-bd55-4715-a97a-9be1a591bc57/resource/92889ac6-6665-4ed2-b1d9-23c142fe145b/download/descargas_pai.csv\"\n",
    "  },\n",
    "  {\n",
    "    \"area\": \"Cumplimiento de la Política de Acceso a la Información\",\n",
    "    \"conjunto_de_datos\": \"Indicadores de Transparencia\",\n",
    "    \"url\": \"https://datosabiertos.bcie.org/dataset/3ef55fb4-bd55-4715-a97a-9be1a591bc57/resource/ad4a44e3-f527-47de-b00d-385c15fe43b9/download/documentos_pai.csv\"\n",
    "  },\n",
    "  {\n",
    "    \"area\": \"Cumplimiento de la Política de Acceso a la Información\",\n",
    "    \"conjunto_de_datos\": \"Indicadores de Transparencia\",\n",
    "    \"url\": \"https://datosabiertos.bcie.org/dataset/3ef55fb4-bd55-4715-a97a-9be1a591bc57/resource/b06d05a5-2d8c-4bc4-bb47-41bf0c0e1945/download/solicitudes_informacion_pai.csv\"\n",
    "  }\n",
    "]"
   ]
  },
  {
   "cell_type": "code",
   "execution_count": 0,
   "metadata": {
    "application/vnd.databricks.v1+cell": {
     "cellMetadata": {
      "byteLimit": 2048000,
      "rowLimit": 10000
     },
     "inputWidgets": {},
     "nuid": "66927da8-64bf-471f-814e-6c2328121a82",
     "showTitle": false,
     "tableResultSettingsMap": {
      "0": {
       "dataGridStateBlob": "{\"version\":1,\"tableState\":{\"columnPinning\":{\"left\":[\"#row_number#\"],\"right\":[]},\"columnSizing\":{\"url\":879},\"columnVisibility\":{}},\"settings\":{\"columns\":{\"url\":{\"format\":{\"preset\":\"string-preset-url\"}}}},\"syncTimestamp\":1759888731217}",
       "filterBlob": null,
       "queryPlanFiltersBlob": null,
       "tableResultIndex": 0
      }
     },
     "title": ""
    }
   },
   "outputs": [],
   "source": [
    "df = spark.createDataFrame(datasets)\n",
    "display(df)"
   ]
  },
  {
   "cell_type": "code",
   "execution_count": 0,
   "metadata": {
    "application/vnd.databricks.v1+cell": {
     "cellMetadata": {
      "byteLimit": 2048000,
      "rowLimit": 10000
     },
     "inputWidgets": {},
     "nuid": "51280896-8bf2-4784-9dae-a4ffb30f40bc",
     "showTitle": false,
     "tableResultSettingsMap": {},
     "title": ""
    }
   },
   "outputs": [],
   "source": [
    "df.write.mode(\"overwrite\").option(\"mergeSchema\", \"true\").saveAsTable(path)"
   ]
  }
 ],
 "metadata": {
  "application/vnd.databricks.v1+notebook": {
   "computePreferences": null,
   "dashboards": [],
   "environmentMetadata": {
    "base_environment": "dbe_65bc13ea-276c-4905-a728-9fe2fb1780e2",
    "environment_version": "3"
   },
   "inputWidgetPreferences": null,
   "language": "python",
   "notebookMetadata": {
    "pythonIndentUnit": 2
   },
   "notebookName": "Definición de Datasets",
   "widgets": {
    "catalog": {
     "currentValue": "users",
     "nuid": "b9f15e97-29a1-45b6-92e8-62816d913627",
     "typedWidgetInfo": {
      "autoCreated": false,
      "defaultValue": "users",
      "label": "",
      "name": "catalog",
      "options": {
       "widgetDisplayType": "Text",
       "validationRegex": null
      },
      "parameterDataType": "String"
     },
     "widgetInfo": {
      "widgetType": "text",
      "defaultValue": "users",
      "label": "",
      "name": "catalog",
      "options": {
       "widgetType": "text",
       "autoCreated": false,
       "validationRegex": null
      }
     }
    },
    "schema": {
     "currentValue": "kevin_romero",
     "nuid": "b67368ce-cb80-410a-b348-441420cb251d",
     "typedWidgetInfo": {
      "autoCreated": false,
      "defaultValue": "kevin_romero",
      "label": "",
      "name": "schema",
      "options": {
       "widgetDisplayType": "Text",
       "validationRegex": null
      },
      "parameterDataType": "String"
     },
     "widgetInfo": {
      "widgetType": "text",
      "defaultValue": "kevin_romero",
      "label": "",
      "name": "schema",
      "options": {
       "widgetType": "text",
       "autoCreated": false,
       "validationRegex": null
      }
     }
    },
    "table": {
     "currentValue": "bcie_datasets",
     "nuid": "d30a5e74-588b-4995-a529-c4cfca1502a3",
     "typedWidgetInfo": {
      "autoCreated": false,
      "defaultValue": "bcie_datasets",
      "label": "",
      "name": "table",
      "options": {
       "widgetDisplayType": "Text",
       "validationRegex": null
      },
      "parameterDataType": "String"
     },
     "widgetInfo": {
      "widgetType": "text",
      "defaultValue": "bcie_datasets",
      "label": "",
      "name": "table",
      "options": {
       "widgetType": "text",
       "autoCreated": false,
       "validationRegex": null
      }
     }
    }
   }
  },
  "language_info": {
   "name": "python"
  }
 },
 "nbformat": 4,
 "nbformat_minor": 0
}
