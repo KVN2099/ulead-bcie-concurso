{
 "cells": [
  {
   "cell_type": "code",
   "execution_count": 0,
   "metadata": {
    "application/vnd.databricks.v1+cell": {
     "cellMetadata": {},
     "inputWidgets": {},
     "nuid": "0ab51fca-8ae7-4fbc-8037-3ee479793b66",
     "showTitle": false,
     "tableResultSettingsMap": {},
     "title": ""
    }
   },
   "outputs": [],
   "source": [
    "CATALOG_NAME = dbutils.widgets.get(\"catalog\")\n",
    "SCHEMA_NAME = dbutils.widgets.get(\"schema\")"
   ]
  },
  {
   "cell_type": "code",
   "execution_count": 0,
   "metadata": {
    "application/vnd.databricks.v1+cell": {
     "cellMetadata": {
      "byteLimit": 2048000,
      "implicitDf": true,
      "rowLimit": 10000
     },
     "inputWidgets": {},
     "nuid": "05a280d0-e0c3-4a24-a382-5aebac14716f",
     "showTitle": false,
     "tableResultSettingsMap": {
      "0": {
       "dataGridStateBlob": "{\"version\":1,\"tableState\":{\"columnPinning\":{\"left\":[\"#row_number#\"],\"right\":[]},\"columnSizing\":{},\"columnVisibility\":{}},\"settings\":{\"columns\":{}},\"syncTimestamp\":1758842630439}",
       "filterBlob": null,
       "queryPlanFiltersBlob": null,
       "tableResultIndex": 0
      }
     },
     "title": ""
    }
   },
   "outputs": [],
   "source": [
    "%sql\n",
    "SELECT \n",
    "    catalog_name,\n",
    "    schema_name,\n",
    "    table_name,\n",
    "    tag_name,\n",
    "    tag_value\n",
    "FROM system.information_schema.table_tags\n",
    "WHERE tag_name = 'concurso' and tag_value = 'bcie'\n",
    "and catalog_name = :CATALOG_NAME and schema_name = :SCHEMA_NAME;"
   ]
  },
  {
   "cell_type": "code",
   "execution_count": 0,
   "metadata": {
    "application/vnd.databricks.v1+cell": {
     "cellMetadata": {},
     "inputWidgets": {},
     "nuid": "8b97dfd2-6c20-4433-bdb3-9b512bf16e78",
     "showTitle": false,
     "tableResultSettingsMap": {},
     "title": ""
    }
   },
   "outputs": [],
   "source": [
    "# Configure for Spark DataFrames\n",
    "from ydata_profiling.config import ProfileReport\n",
    "from ydata_profiling import ProfileReport\n",
    "\n",
    "# Convert Spark to Pandas for processing\n",
    "bcie_datasets = spark.sql(\"\"\"\n",
    "SELECT \n",
    "    catalog_name,\n",
    "    schema_name,\n",
    "    table_name,\n",
    "    tag_name,\n",
    "    tag_value\n",
    "FROM system.information_schema.table_tags\n",
    "WHERE tag_name = 'concurso' and tag_value = 'bcie'\n",
    "and catalog_name = :CATALOG_NAME and schema_name = :SCHEMA_NAME;\n",
    "                          \"\"\")\n",
    "\n",
    "for dataset in bcie_datasets:\n",
    "    pandas_df = bcie_datasets.toPandas()\n",
    "\n",
    "    profile = ProfileReport(\n",
    "        pandas_df,\n",
    "        title=\"Spark DataFrame Profile\",\n",
    "        explorative=True,\n",
    "        # Configure for large datasets\n",
    "        vars={\"num\": {\"low_categorical_threshold\": 0}}\n",
    "    )"
   ]
  }
 ],
 "metadata": {
  "application/vnd.databricks.v1+notebook": {
   "computePreferences": null,
   "dashboards": [],
   "environmentMetadata": {
    "base_environment": "dbe_65bc13ea-276c-4905-a728-9fe2fb1780e2",
    "environment_version": "3"
   },
   "inputWidgetPreferences": null,
   "language": "python",
   "notebookMetadata": {
    "mostRecentlyExecutedCommandWithImplicitDF": {
     "commandId": 8321753609615581,
     "dataframes": [
      "_sqldf"
     ]
    },
    "pythonIndentUnit": 2
   },
   "notebookName": "Análisis de Datos Exploratorio",
   "widgets": {
    "CATALOG_NAME": {
     "currentValue": "users",
     "nuid": "f02c6ab0-2481-473a-a73b-731672e4222b",
     "typedWidgetInfo": {
      "autoCreated": true,
      "defaultValue": "",
      "label": null,
      "name": "CATALOG_NAME",
      "options": {
       "widgetDisplayType": "Text",
       "validationRegex": null
      },
      "parameterDataType": "String"
     },
     "widgetInfo": {
      "widgetType": "text",
      "defaultValue": "",
      "label": null,
      "name": "CATALOG_NAME",
      "options": {
       "widgetType": "text",
       "autoCreated": true,
       "validationRegex": null
      }
     }
    },
    "SCHEMA_NAME": {
     "currentValue": "kevin_romero",
     "nuid": "babeecab-bbcb-44e5-b0e3-a69cf8d1e728",
     "typedWidgetInfo": {
      "autoCreated": true,
      "defaultValue": "",
      "label": null,
      "name": "SCHEMA_NAME",
      "options": {
       "widgetDisplayType": "Text",
       "validationRegex": null
      },
      "parameterDataType": "String"
     },
     "widgetInfo": {
      "widgetType": "text",
      "defaultValue": "",
      "label": null,
      "name": "SCHEMA_NAME",
      "options": {
       "widgetType": "text",
       "autoCreated": true,
       "validationRegex": null
      }
     }
    }
   }
  },
  "language_info": {
   "name": "python"
  }
 },
 "nbformat": 4,
 "nbformat_minor": 0
}
